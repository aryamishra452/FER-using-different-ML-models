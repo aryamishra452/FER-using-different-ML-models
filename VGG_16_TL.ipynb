{
  "nbformat": 4,
  "nbformat_minor": 0,
  "metadata": {
    "colab": {
      "provenance": [],
      "gpuType": "T4",
      "authorship_tag": "ABX9TyOA5gHStPlatIQXRRzZqlXK",
      "include_colab_link": true
    },
    "kernelspec": {
      "name": "python3",
      "display_name": "Python 3"
    },
    "language_info": {
      "name": "python"
    },
    "accelerator": "GPU"
  },
  "cells": [
    {
      "cell_type": "markdown",
      "metadata": {
        "id": "view-in-github",
        "colab_type": "text"
      },
      "source": [
        "<a href=\"https://colab.research.google.com/github/aryamishra452/FER-using-different-ML-models/blob/main/VGG_16_TL.ipynb\" target=\"_parent\"><img src=\"https://colab.research.google.com/assets/colab-badge.svg\" alt=\"Open In Colab\"/></a>"
      ]
    },
    {
      "cell_type": "markdown",
      "source": [
        "1.IMPORT LIBRARIES"
      ],
      "metadata": {
        "id": "EWZt8ETwdU5P"
      }
    },
    {
      "cell_type": "code",
      "source": [
        "import numpy as np\n",
        "import matplotlib.pyplot as plt\n",
        "import tensorflow as tf\n",
        "from tensorflow import keras\n",
        "from tensorflow.keras import layers\n"
      ],
      "metadata": {
        "id": "r5OBPm91cn5v"
      },
      "execution_count": 2,
      "outputs": []
    },
    {
      "cell_type": "markdown",
      "source": [
        "2.KAGGLE SETUP"
      ],
      "metadata": {
        "id": "EWm9Q5xQdbrw"
      }
    },
    {
      "cell_type": "code",
      "execution_count": 3,
      "metadata": {
        "colab": {
          "base_uri": "https://localhost:8080/"
        },
        "id": "u15MiqYCZq-Z",
        "outputId": "2afd7157-7df9-4959-b4f8-028415ed18fe"
      },
      "outputs": [
        {
          "output_type": "stream",
          "name": "stdout",
          "text": [
            "Mounted at /content/drive\n",
            "✅ Found kaggle.json in Drive\n"
          ]
        }
      ],
      "source": [
        "from google.colab import drive, files\n",
        "import os\n",
        "\n",
        "# Mount Drive\n",
        "drive.mount('/content/drive')\n",
        "\n",
        "# Path where we’ll store kaggle.json forever\n",
        "KAGGLE_PATH = \"/content/drive/MyDrive/kaggle\"\n",
        "\n",
        "# Check if kaggle.json already exists in Drive\n",
        "if not os.path.exists(f\"{KAGGLE_PATH}/kaggle.json\"):\n",
        "    print(\"Upload kaggle.json (download from Kaggle > Account > Create API Token)\")\n",
        "    files.upload()  # upload kaggle.json once\n",
        "    os.makedirs(KAGGLE_PATH, exist_ok=True)\n",
        "    !cp kaggle.json {KAGGLE_PATH}/kaggle.json\n",
        "    print(\"✅ Kaggle token saved to Drive!\")\n",
        "else:\n",
        "    print(\"✅ Found kaggle.json in Drive\")\n",
        "\n",
        "# Copy to Colab's kaggle folder\n",
        "!mkdir -p ~/.kaggle\n",
        "!cp {KAGGLE_PATH}/kaggle.json ~/.kaggle/\n",
        "!chmod 600 ~/.kaggle/kaggle.json\n"
      ]
    },
    {
      "cell_type": "markdown",
      "source": [
        "3.DATASET DOWNLOAD"
      ],
      "metadata": {
        "id": "ISyClckWdg32"
      }
    },
    {
      "cell_type": "code",
      "source": [
        "!kaggle datasets download -d msambare/fer2013 -p /content\n",
        "!unzip -q /content/fer2013.zip -d fer2013_data\n"
      ],
      "metadata": {
        "colab": {
          "base_uri": "https://localhost:8080/"
        },
        "id": "jH_bf_U3cYmJ",
        "outputId": "3bdada1b-836b-48ee-909d-012b35190891"
      },
      "execution_count": 4,
      "outputs": [
        {
          "output_type": "stream",
          "name": "stdout",
          "text": [
            "Dataset URL: https://www.kaggle.com/datasets/msambare/fer2013\n",
            "License(s): DbCL-1.0\n",
            "Downloading fer2013.zip to /content\n",
            "  0% 0.00/60.3M [00:00<?, ?B/s]\n",
            "100% 60.3M/60.3M [00:00<00:00, 997MB/s]\n"
          ]
        }
      ]
    },
    {
      "cell_type": "markdown",
      "source": [
        "4.DATASET PREPARATION"
      ],
      "metadata": {
        "id": "vb20zuHkdpNz"
      }
    },
    {
      "cell_type": "code",
      "source": [
        "IMG_SIZE = 224\n",
        "BATCH = 64\n",
        "\n",
        "train_ds = keras.utils.image_dataset_from_directory(\n",
        "    \"fer2013_data/train\",\n",
        "    image_size=(IMG_SIZE, IMG_SIZE),\n",
        "    batch_size=BATCH,\n",
        "    label_mode=\"int\"\n",
        ")\n",
        "\n",
        "test_ds = keras.utils.image_dataset_from_directory(\n",
        "    \"fer2013_data/test\",\n",
        "    image_size=(IMG_SIZE, IMG_SIZE),\n",
        "    batch_size=BATCH,\n",
        "    label_mode=\"int\"\n",
        ")\n",
        "\n",
        "# Validation split\n",
        "val_size = int(0.1 * tf.data.experimental.cardinality(train_ds).numpy())\n",
        "val_ds = train_ds.take(val_size)\n",
        "train_ds = train_ds.skip(val_size)\n",
        "\n",
        "# Normalize\n",
        "normalization_layer = layers.Rescaling(1./255)\n",
        "train_ds = train_ds.map(lambda x, y: (normalization_layer(x), y))\n",
        "val_ds   = val_ds.map(lambda x, y: (normalization_layer(x), y))\n",
        "test_ds  = test_ds.map(lambda x, y: (normalization_layer(x), y))\n"
      ],
      "metadata": {
        "colab": {
          "base_uri": "https://localhost:8080/"
        },
        "id": "0YLBjpqqcq4v",
        "outputId": "8ae1e352-843b-4fdf-9f94-5283b2eb81db"
      },
      "execution_count": 5,
      "outputs": [
        {
          "output_type": "stream",
          "name": "stdout",
          "text": [
            "Found 28709 files belonging to 7 classes.\n",
            "Found 7178 files belonging to 7 classes.\n"
          ]
        }
      ]
    },
    {
      "cell_type": "markdown",
      "source": [
        "5.BUILD VGG16 TL MODEL"
      ],
      "metadata": {
        "id": "xAqD6OAvdvAf"
      }
    },
    {
      "cell_type": "code",
      "source": [
        "def build_vgg16_tl():\n",
        "    base = keras.applications.VGG16(include_top=False, weights=\"imagenet\",\n",
        "                                    input_shape=(IMG_SIZE, IMG_SIZE, 3))\n",
        "    base.trainable = False   # freeze base\n",
        "\n",
        "    inputs = keras.Input(shape=(IMG_SIZE, IMG_SIZE, 3))\n",
        "    x = base(inputs, training=False)\n",
        "    x = layers.GlobalAveragePooling2D()(x)\n",
        "    x = layers.Dropout(0.4)(x)\n",
        "    x = layers.Dense(256, activation=\"relu\")(x)\n",
        "    x = layers.Dropout(0.3)(x)\n",
        "    outputs = layers.Dense(7, activation=\"softmax\")(x)\n",
        "\n",
        "    model = keras.Model(inputs, outputs)\n",
        "    model.compile(optimizer=keras.optimizers.Adam(1e-4),\n",
        "                  loss=\"sparse_categorical_crossentropy\",\n",
        "                  metrics=[\"accuracy\"])\n",
        "    return model\n",
        "\n",
        "model = build_vgg16_tl()\n",
        "model.summary()\n"
      ],
      "metadata": {
        "colab": {
          "base_uri": "https://localhost:8080/",
          "height": 404
        },
        "id": "NrK0n4a7cvQZ",
        "outputId": "c03f8911-3532-4064-b00b-6a5c2b2ea30c"
      },
      "execution_count": 6,
      "outputs": [
        {
          "output_type": "stream",
          "name": "stdout",
          "text": [
            "Downloading data from https://storage.googleapis.com/tensorflow/keras-applications/vgg16/vgg16_weights_tf_dim_ordering_tf_kernels_notop.h5\n",
            "\u001b[1m58889256/58889256\u001b[0m \u001b[32m━━━━━━━━━━━━━━━━━━━━\u001b[0m\u001b[37m\u001b[0m \u001b[1m0s\u001b[0m 0us/step\n"
          ]
        },
        {
          "output_type": "display_data",
          "data": {
            "text/plain": [
              "\u001b[1mModel: \"functional\"\u001b[0m\n"
            ],
            "text/html": [
              "<pre style=\"white-space:pre;overflow-x:auto;line-height:normal;font-family:Menlo,'DejaVu Sans Mono',consolas,'Courier New',monospace\"><span style=\"font-weight: bold\">Model: \"functional\"</span>\n",
              "</pre>\n"
            ]
          },
          "metadata": {}
        },
        {
          "output_type": "display_data",
          "data": {
            "text/plain": [
              "┏━━━━━━━━━━━━━━━━━━━━━━━━━━━━━━━━━┳━━━━━━━━━━━━━━━━━━━━━━━━┳━━━━━━━━━━━━━━━┓\n",
              "┃\u001b[1m \u001b[0m\u001b[1mLayer (type)                   \u001b[0m\u001b[1m \u001b[0m┃\u001b[1m \u001b[0m\u001b[1mOutput Shape          \u001b[0m\u001b[1m \u001b[0m┃\u001b[1m \u001b[0m\u001b[1m      Param #\u001b[0m\u001b[1m \u001b[0m┃\n",
              "┡━━━━━━━━━━━━━━━━━━━━━━━━━━━━━━━━━╇━━━━━━━━━━━━━━━━━━━━━━━━╇━━━━━━━━━━━━━━━┩\n",
              "│ input_layer_1 (\u001b[38;5;33mInputLayer\u001b[0m)      │ (\u001b[38;5;45mNone\u001b[0m, \u001b[38;5;34m224\u001b[0m, \u001b[38;5;34m224\u001b[0m, \u001b[38;5;34m3\u001b[0m)    │             \u001b[38;5;34m0\u001b[0m │\n",
              "├─────────────────────────────────┼────────────────────────┼───────────────┤\n",
              "│ vgg16 (\u001b[38;5;33mFunctional\u001b[0m)              │ (\u001b[38;5;45mNone\u001b[0m, \u001b[38;5;34m7\u001b[0m, \u001b[38;5;34m7\u001b[0m, \u001b[38;5;34m512\u001b[0m)      │    \u001b[38;5;34m14,714,688\u001b[0m │\n",
              "├─────────────────────────────────┼────────────────────────┼───────────────┤\n",
              "│ global_average_pooling2d        │ (\u001b[38;5;45mNone\u001b[0m, \u001b[38;5;34m512\u001b[0m)            │             \u001b[38;5;34m0\u001b[0m │\n",
              "│ (\u001b[38;5;33mGlobalAveragePooling2D\u001b[0m)        │                        │               │\n",
              "├─────────────────────────────────┼────────────────────────┼───────────────┤\n",
              "│ dropout (\u001b[38;5;33mDropout\u001b[0m)               │ (\u001b[38;5;45mNone\u001b[0m, \u001b[38;5;34m512\u001b[0m)            │             \u001b[38;5;34m0\u001b[0m │\n",
              "├─────────────────────────────────┼────────────────────────┼───────────────┤\n",
              "│ dense (\u001b[38;5;33mDense\u001b[0m)                   │ (\u001b[38;5;45mNone\u001b[0m, \u001b[38;5;34m256\u001b[0m)            │       \u001b[38;5;34m131,328\u001b[0m │\n",
              "├─────────────────────────────────┼────────────────────────┼───────────────┤\n",
              "│ dropout_1 (\u001b[38;5;33mDropout\u001b[0m)             │ (\u001b[38;5;45mNone\u001b[0m, \u001b[38;5;34m256\u001b[0m)            │             \u001b[38;5;34m0\u001b[0m │\n",
              "├─────────────────────────────────┼────────────────────────┼───────────────┤\n",
              "│ dense_1 (\u001b[38;5;33mDense\u001b[0m)                 │ (\u001b[38;5;45mNone\u001b[0m, \u001b[38;5;34m7\u001b[0m)              │         \u001b[38;5;34m1,799\u001b[0m │\n",
              "└─────────────────────────────────┴────────────────────────┴───────────────┘\n"
            ],
            "text/html": [
              "<pre style=\"white-space:pre;overflow-x:auto;line-height:normal;font-family:Menlo,'DejaVu Sans Mono',consolas,'Courier New',monospace\">┏━━━━━━━━━━━━━━━━━━━━━━━━━━━━━━━━━┳━━━━━━━━━━━━━━━━━━━━━━━━┳━━━━━━━━━━━━━━━┓\n",
              "┃<span style=\"font-weight: bold\"> Layer (type)                    </span>┃<span style=\"font-weight: bold\"> Output Shape           </span>┃<span style=\"font-weight: bold\">       Param # </span>┃\n",
              "┡━━━━━━━━━━━━━━━━━━━━━━━━━━━━━━━━━╇━━━━━━━━━━━━━━━━━━━━━━━━╇━━━━━━━━━━━━━━━┩\n",
              "│ input_layer_1 (<span style=\"color: #0087ff; text-decoration-color: #0087ff\">InputLayer</span>)      │ (<span style=\"color: #00d7ff; text-decoration-color: #00d7ff\">None</span>, <span style=\"color: #00af00; text-decoration-color: #00af00\">224</span>, <span style=\"color: #00af00; text-decoration-color: #00af00\">224</span>, <span style=\"color: #00af00; text-decoration-color: #00af00\">3</span>)    │             <span style=\"color: #00af00; text-decoration-color: #00af00\">0</span> │\n",
              "├─────────────────────────────────┼────────────────────────┼───────────────┤\n",
              "│ vgg16 (<span style=\"color: #0087ff; text-decoration-color: #0087ff\">Functional</span>)              │ (<span style=\"color: #00d7ff; text-decoration-color: #00d7ff\">None</span>, <span style=\"color: #00af00; text-decoration-color: #00af00\">7</span>, <span style=\"color: #00af00; text-decoration-color: #00af00\">7</span>, <span style=\"color: #00af00; text-decoration-color: #00af00\">512</span>)      │    <span style=\"color: #00af00; text-decoration-color: #00af00\">14,714,688</span> │\n",
              "├─────────────────────────────────┼────────────────────────┼───────────────┤\n",
              "│ global_average_pooling2d        │ (<span style=\"color: #00d7ff; text-decoration-color: #00d7ff\">None</span>, <span style=\"color: #00af00; text-decoration-color: #00af00\">512</span>)            │             <span style=\"color: #00af00; text-decoration-color: #00af00\">0</span> │\n",
              "│ (<span style=\"color: #0087ff; text-decoration-color: #0087ff\">GlobalAveragePooling2D</span>)        │                        │               │\n",
              "├─────────────────────────────────┼────────────────────────┼───────────────┤\n",
              "│ dropout (<span style=\"color: #0087ff; text-decoration-color: #0087ff\">Dropout</span>)               │ (<span style=\"color: #00d7ff; text-decoration-color: #00d7ff\">None</span>, <span style=\"color: #00af00; text-decoration-color: #00af00\">512</span>)            │             <span style=\"color: #00af00; text-decoration-color: #00af00\">0</span> │\n",
              "├─────────────────────────────────┼────────────────────────┼───────────────┤\n",
              "│ dense (<span style=\"color: #0087ff; text-decoration-color: #0087ff\">Dense</span>)                   │ (<span style=\"color: #00d7ff; text-decoration-color: #00d7ff\">None</span>, <span style=\"color: #00af00; text-decoration-color: #00af00\">256</span>)            │       <span style=\"color: #00af00; text-decoration-color: #00af00\">131,328</span> │\n",
              "├─────────────────────────────────┼────────────────────────┼───────────────┤\n",
              "│ dropout_1 (<span style=\"color: #0087ff; text-decoration-color: #0087ff\">Dropout</span>)             │ (<span style=\"color: #00d7ff; text-decoration-color: #00d7ff\">None</span>, <span style=\"color: #00af00; text-decoration-color: #00af00\">256</span>)            │             <span style=\"color: #00af00; text-decoration-color: #00af00\">0</span> │\n",
              "├─────────────────────────────────┼────────────────────────┼───────────────┤\n",
              "│ dense_1 (<span style=\"color: #0087ff; text-decoration-color: #0087ff\">Dense</span>)                 │ (<span style=\"color: #00d7ff; text-decoration-color: #00d7ff\">None</span>, <span style=\"color: #00af00; text-decoration-color: #00af00\">7</span>)              │         <span style=\"color: #00af00; text-decoration-color: #00af00\">1,799</span> │\n",
              "└─────────────────────────────────┴────────────────────────┴───────────────┘\n",
              "</pre>\n"
            ]
          },
          "metadata": {}
        },
        {
          "output_type": "display_data",
          "data": {
            "text/plain": [
              "\u001b[1m Total params: \u001b[0m\u001b[38;5;34m14,847,815\u001b[0m (56.64 MB)\n"
            ],
            "text/html": [
              "<pre style=\"white-space:pre;overflow-x:auto;line-height:normal;font-family:Menlo,'DejaVu Sans Mono',consolas,'Courier New',monospace\"><span style=\"font-weight: bold\"> Total params: </span><span style=\"color: #00af00; text-decoration-color: #00af00\">14,847,815</span> (56.64 MB)\n",
              "</pre>\n"
            ]
          },
          "metadata": {}
        },
        {
          "output_type": "display_data",
          "data": {
            "text/plain": [
              "\u001b[1m Trainable params: \u001b[0m\u001b[38;5;34m133,127\u001b[0m (520.03 KB)\n"
            ],
            "text/html": [
              "<pre style=\"white-space:pre;overflow-x:auto;line-height:normal;font-family:Menlo,'DejaVu Sans Mono',consolas,'Courier New',monospace\"><span style=\"font-weight: bold\"> Trainable params: </span><span style=\"color: #00af00; text-decoration-color: #00af00\">133,127</span> (520.03 KB)\n",
              "</pre>\n"
            ]
          },
          "metadata": {}
        },
        {
          "output_type": "display_data",
          "data": {
            "text/plain": [
              "\u001b[1m Non-trainable params: \u001b[0m\u001b[38;5;34m14,714,688\u001b[0m (56.13 MB)\n"
            ],
            "text/html": [
              "<pre style=\"white-space:pre;overflow-x:auto;line-height:normal;font-family:Menlo,'DejaVu Sans Mono',consolas,'Courier New',monospace\"><span style=\"font-weight: bold\"> Non-trainable params: </span><span style=\"color: #00af00; text-decoration-color: #00af00\">14,714,688</span> (56.13 MB)\n",
              "</pre>\n"
            ]
          },
          "metadata": {}
        }
      ]
    },
    {
      "cell_type": "markdown",
      "source": [
        "6.TRAIN CLASSIFIER HEAD"
      ],
      "metadata": {
        "id": "5bYSzEi8d4pJ"
      }
    },
    {
      "cell_type": "code",
      "source": [
        "callbacks = [\n",
        "    keras.callbacks.EarlyStopping(\n",
        "        monitor=\"val_accuracy\",\n",
        "        patience=5,\n",
        "        restore_best_weights=True,\n",
        "        verbose=1\n",
        "    ),\n",
        "    keras.callbacks.ReduceLROnPlateau(\n",
        "        monitor=\"val_accuracy\",\n",
        "        factor=0.5,\n",
        "\n",
        "        min_lr=1e-7,\n",
        "        verbose=1\n",
        "    ),\n",
        "    keras.callbacks.ModelCheckpoint(\n",
        "        \"best_vgg16_tl.keras\",\n",
        "        monitor=\"val_accuracy\",\n",
        "        save_best_only=True,\n",
        "        verbose=1\n",
        "    )\n",
        "]\n",
        "\n",
        "history = model.fit(\n",
        "    train_ds,\n",
        "    validation_data=val_ds,\n",
        "    epochs=50,\n",
        "    callbacks=callbacks\n",
        ")\n",
        "\n"
      ],
      "metadata": {
        "colab": {
          "base_uri": "https://localhost:8080/"
        },
        "id": "QD0Uxe3Bcz6d",
        "outputId": "3bdd8ba7-d3c2-4908-ea1f-a1396546d9a0"
      },
      "execution_count": 7,
      "outputs": [
        {
          "output_type": "stream",
          "name": "stdout",
          "text": [
            "Epoch 1/50\n",
            "\u001b[1m405/405\u001b[0m \u001b[32m━━━━━━━━━━━━━━━━━━━━\u001b[0m\u001b[37m\u001b[0m \u001b[1m0s\u001b[0m 306ms/step - accuracy: 0.2061 - loss: 1.9622\n",
            "Epoch 1: val_accuracy improved from -inf to 0.27344, saving model to best_vgg16_tl.keras\n",
            "\u001b[1m405/405\u001b[0m \u001b[32m━━━━━━━━━━━━━━━━━━━━\u001b[0m\u001b[37m\u001b[0m \u001b[1m164s\u001b[0m 340ms/step - accuracy: 0.2062 - loss: 1.9621 - val_accuracy: 0.2734 - val_loss: 1.7700 - learning_rate: 1.0000e-04\n",
            "Epoch 2/50\n",
            "\u001b[1m405/405\u001b[0m \u001b[32m━━━━━━━━━━━━━━━━━━━━\u001b[0m\u001b[37m\u001b[0m \u001b[1m0s\u001b[0m 285ms/step - accuracy: 0.2411 - loss: 1.8259\n",
            "Epoch 2: val_accuracy improved from 0.27344 to 0.31463, saving model to best_vgg16_tl.keras\n",
            "\u001b[1m405/405\u001b[0m \u001b[32m━━━━━━━━━━━━━━━━━━━━\u001b[0m\u001b[37m\u001b[0m \u001b[1m130s\u001b[0m 317ms/step - accuracy: 0.2412 - loss: 1.8258 - val_accuracy: 0.3146 - val_loss: 1.7319 - learning_rate: 1.0000e-04\n",
            "Epoch 3/50\n",
            "\u001b[1m405/405\u001b[0m \u001b[32m━━━━━━━━━━━━━━━━━━━━\u001b[0m\u001b[37m\u001b[0m \u001b[1m0s\u001b[0m 288ms/step - accuracy: 0.2707 - loss: 1.7692\n",
            "Epoch 3: val_accuracy improved from 0.31463 to 0.33842, saving model to best_vgg16_tl.keras\n",
            "\u001b[1m405/405\u001b[0m \u001b[32m━━━━━━━━━━━━━━━━━━━━\u001b[0m\u001b[37m\u001b[0m \u001b[1m143s\u001b[0m 321ms/step - accuracy: 0.2708 - loss: 1.7692 - val_accuracy: 0.3384 - val_loss: 1.7025 - learning_rate: 1.0000e-04\n",
            "Epoch 4/50\n",
            "\u001b[1m405/405\u001b[0m \u001b[32m━━━━━━━━━━━━━━━━━━━━\u001b[0m\u001b[37m\u001b[0m \u001b[1m0s\u001b[0m 289ms/step - accuracy: 0.2948 - loss: 1.7376\n",
            "Epoch 4: val_accuracy improved from 0.33842 to 0.35440, saving model to best_vgg16_tl.keras\n",
            "\u001b[1m405/405\u001b[0m \u001b[32m━━━━━━━━━━━━━━━━━━━━\u001b[0m\u001b[37m\u001b[0m \u001b[1m142s\u001b[0m 321ms/step - accuracy: 0.2948 - loss: 1.7376 - val_accuracy: 0.3544 - val_loss: 1.6825 - learning_rate: 1.0000e-04\n",
            "Epoch 5/50\n",
            "\u001b[1m405/405\u001b[0m \u001b[32m━━━━━━━━━━━━━━━━━━━━\u001b[0m\u001b[37m\u001b[0m \u001b[1m0s\u001b[0m 289ms/step - accuracy: 0.3053 - loss: 1.7167\n",
            "Epoch 5: val_accuracy improved from 0.35440 to 0.36080, saving model to best_vgg16_tl.keras\n",
            "\u001b[1m405/405\u001b[0m \u001b[32m━━━━━━━━━━━━━━━━━━━━\u001b[0m\u001b[37m\u001b[0m \u001b[1m150s\u001b[0m 341ms/step - accuracy: 0.3053 - loss: 1.7167 - val_accuracy: 0.3608 - val_loss: 1.6730 - learning_rate: 1.0000e-04\n",
            "Epoch 6/50\n",
            "\u001b[1m405/405\u001b[0m \u001b[32m━━━━━━━━━━━━━━━━━━━━\u001b[0m\u001b[37m\u001b[0m \u001b[1m0s\u001b[0m 289ms/step - accuracy: 0.3112 - loss: 1.7012\n",
            "Epoch 6: val_accuracy improved from 0.36080 to 0.36932, saving model to best_vgg16_tl.keras\n",
            "\u001b[1m405/405\u001b[0m \u001b[32m━━━━━━━━━━━━━━━━━━━━\u001b[0m\u001b[37m\u001b[0m \u001b[1m134s\u001b[0m 322ms/step - accuracy: 0.3112 - loss: 1.7012 - val_accuracy: 0.3693 - val_loss: 1.6560 - learning_rate: 1.0000e-04\n",
            "Epoch 7/50\n",
            "\u001b[1m405/405\u001b[0m \u001b[32m━━━━━━━━━━━━━━━━━━━━\u001b[0m\u001b[37m\u001b[0m \u001b[1m0s\u001b[0m 289ms/step - accuracy: 0.3207 - loss: 1.6904\n",
            "Epoch 7: val_accuracy improved from 0.36932 to 0.37571, saving model to best_vgg16_tl.keras\n",
            "\u001b[1m405/405\u001b[0m \u001b[32m━━━━━━━━━━━━━━━━━━━━\u001b[0m\u001b[37m\u001b[0m \u001b[1m150s\u001b[0m 341ms/step - accuracy: 0.3207 - loss: 1.6904 - val_accuracy: 0.3757 - val_loss: 1.6432 - learning_rate: 1.0000e-04\n",
            "Epoch 8/50\n",
            "\u001b[1m405/405\u001b[0m \u001b[32m━━━━━━━━━━━━━━━━━━━━\u001b[0m\u001b[37m\u001b[0m \u001b[1m0s\u001b[0m 289ms/step - accuracy: 0.3212 - loss: 1.6786\n",
            "Epoch 8: val_accuracy improved from 0.37571 to 0.38033, saving model to best_vgg16_tl.keras\n",
            "\u001b[1m405/405\u001b[0m \u001b[32m━━━━━━━━━━━━━━━━━━━━\u001b[0m\u001b[37m\u001b[0m \u001b[1m134s\u001b[0m 322ms/step - accuracy: 0.3212 - loss: 1.6786 - val_accuracy: 0.3803 - val_loss: 1.6372 - learning_rate: 1.0000e-04\n",
            "Epoch 9/50\n",
            "\u001b[1m405/405\u001b[0m \u001b[32m━━━━━━━━━━━━━━━━━━━━\u001b[0m\u001b[37m\u001b[0m \u001b[1m0s\u001b[0m 289ms/step - accuracy: 0.3252 - loss: 1.6766\n",
            "Epoch 9: val_accuracy improved from 0.38033 to 0.38920, saving model to best_vgg16_tl.keras\n",
            "\u001b[1m405/405\u001b[0m \u001b[32m━━━━━━━━━━━━━━━━━━━━\u001b[0m\u001b[37m\u001b[0m \u001b[1m142s\u001b[0m 322ms/step - accuracy: 0.3252 - loss: 1.6766 - val_accuracy: 0.3892 - val_loss: 1.6203 - learning_rate: 1.0000e-04\n",
            "Epoch 10/50\n",
            "\u001b[1m405/405\u001b[0m \u001b[32m━━━━━━━━━━━━━━━━━━━━\u001b[0m\u001b[37m\u001b[0m \u001b[1m0s\u001b[0m 289ms/step - accuracy: 0.3292 - loss: 1.6668\n",
            "Epoch 10: val_accuracy improved from 0.38920 to 0.38956, saving model to best_vgg16_tl.keras\n",
            "\u001b[1m405/405\u001b[0m \u001b[32m━━━━━━━━━━━━━━━━━━━━\u001b[0m\u001b[37m\u001b[0m \u001b[1m150s\u001b[0m 341ms/step - accuracy: 0.3292 - loss: 1.6668 - val_accuracy: 0.3896 - val_loss: 1.6196 - learning_rate: 1.0000e-04\n",
            "Epoch 11/50\n",
            "\u001b[1m405/405\u001b[0m \u001b[32m━━━━━━━━━━━━━━━━━━━━\u001b[0m\u001b[37m\u001b[0m \u001b[1m0s\u001b[0m 290ms/step - accuracy: 0.3371 - loss: 1.6596\n",
            "Epoch 11: val_accuracy did not improve from 0.38956\n",
            "\u001b[1m405/405\u001b[0m \u001b[32m━━━━━━━━━━━━━━━━━━━━\u001b[0m\u001b[37m\u001b[0m \u001b[1m132s\u001b[0m 322ms/step - accuracy: 0.3371 - loss: 1.6596 - val_accuracy: 0.3878 - val_loss: 1.6138 - learning_rate: 1.0000e-04\n",
            "Epoch 12/50\n",
            "\u001b[1m405/405\u001b[0m \u001b[32m━━━━━━━━━━━━━━━━━━━━\u001b[0m\u001b[37m\u001b[0m \u001b[1m0s\u001b[0m 289ms/step - accuracy: 0.3437 - loss: 1.6569\n",
            "Epoch 12: val_accuracy improved from 0.38956 to 0.40021, saving model to best_vgg16_tl.keras\n",
            "\u001b[1m405/405\u001b[0m \u001b[32m━━━━━━━━━━━━━━━━━━━━\u001b[0m\u001b[37m\u001b[0m \u001b[1m132s\u001b[0m 322ms/step - accuracy: 0.3437 - loss: 1.6569 - val_accuracy: 0.4002 - val_loss: 1.6026 - learning_rate: 1.0000e-04\n",
            "Epoch 13/50\n",
            "\u001b[1m405/405\u001b[0m \u001b[32m━━━━━━━━━━━━━━━━━━━━\u001b[0m\u001b[37m\u001b[0m \u001b[1m0s\u001b[0m 290ms/step - accuracy: 0.3472 - loss: 1.6472\n",
            "Epoch 13: val_accuracy did not improve from 0.40021\n",
            "\u001b[1m405/405\u001b[0m \u001b[32m━━━━━━━━━━━━━━━━━━━━\u001b[0m\u001b[37m\u001b[0m \u001b[1m139s\u001b[0m 340ms/step - accuracy: 0.3472 - loss: 1.6472 - val_accuracy: 0.3931 - val_loss: 1.6098 - learning_rate: 1.0000e-04\n",
            "Epoch 14/50\n",
            "\u001b[1m405/405\u001b[0m \u001b[32m━━━━━━━━━━━━━━━━━━━━\u001b[0m\u001b[37m\u001b[0m \u001b[1m0s\u001b[0m 290ms/step - accuracy: 0.3452 - loss: 1.6412\n",
            "Epoch 14: val_accuracy improved from 0.40021 to 0.40518, saving model to best_vgg16_tl.keras\n",
            "\u001b[1m405/405\u001b[0m \u001b[32m━━━━━━━━━━━━━━━━━━━━\u001b[0m\u001b[37m\u001b[0m \u001b[1m132s\u001b[0m 323ms/step - accuracy: 0.3452 - loss: 1.6412 - val_accuracy: 0.4052 - val_loss: 1.5913 - learning_rate: 1.0000e-04\n",
            "Epoch 15/50\n",
            "\u001b[1m405/405\u001b[0m \u001b[32m━━━━━━━━━━━━━━━━━━━━\u001b[0m\u001b[37m\u001b[0m \u001b[1m0s\u001b[0m 290ms/step - accuracy: 0.3507 - loss: 1.6360\n",
            "Epoch 15: val_accuracy did not improve from 0.40518\n",
            "\u001b[1m405/405\u001b[0m \u001b[32m━━━━━━━━━━━━━━━━━━━━\u001b[0m\u001b[37m\u001b[0m \u001b[1m141s\u001b[0m 322ms/step - accuracy: 0.3507 - loss: 1.6360 - val_accuracy: 0.4006 - val_loss: 1.5915 - learning_rate: 1.0000e-04\n",
            "Epoch 16/50\n",
            "\u001b[1m405/405\u001b[0m \u001b[32m━━━━━━━━━━━━━━━━━━━━\u001b[0m\u001b[37m\u001b[0m \u001b[1m0s\u001b[0m 289ms/step - accuracy: 0.3561 - loss: 1.6342\n",
            "Epoch 16: val_accuracy improved from 0.40518 to 0.40696, saving model to best_vgg16_tl.keras\n",
            "\u001b[1m405/405\u001b[0m \u001b[32m━━━━━━━━━━━━━━━━━━━━\u001b[0m\u001b[37m\u001b[0m \u001b[1m150s\u001b[0m 341ms/step - accuracy: 0.3561 - loss: 1.6342 - val_accuracy: 0.4070 - val_loss: 1.5853 - learning_rate: 1.0000e-04\n",
            "Epoch 17/50\n",
            "\u001b[1m405/405\u001b[0m \u001b[32m━━━━━━━━━━━━━━━━━━━━\u001b[0m\u001b[37m\u001b[0m \u001b[1m0s\u001b[0m 290ms/step - accuracy: 0.3541 - loss: 1.6327\n",
            "Epoch 17: val_accuracy did not improve from 0.40696\n",
            "\u001b[1m405/405\u001b[0m \u001b[32m━━━━━━━━━━━━━━━━━━━━\u001b[0m\u001b[37m\u001b[0m \u001b[1m140s\u001b[0m 340ms/step - accuracy: 0.3541 - loss: 1.6327 - val_accuracy: 0.4055 - val_loss: 1.5806 - learning_rate: 1.0000e-04\n",
            "Epoch 18/50\n",
            "\u001b[1m405/405\u001b[0m \u001b[32m━━━━━━━━━━━━━━━━━━━━\u001b[0m\u001b[37m\u001b[0m \u001b[1m0s\u001b[0m 290ms/step - accuracy: 0.3540 - loss: 1.6296\n",
            "Epoch 18: val_accuracy did not improve from 0.40696\n",
            "\u001b[1m405/405\u001b[0m \u001b[32m━━━━━━━━━━━━━━━━━━━━\u001b[0m\u001b[37m\u001b[0m \u001b[1m134s\u001b[0m 322ms/step - accuracy: 0.3540 - loss: 1.6295 - val_accuracy: 0.4048 - val_loss: 1.5848 - learning_rate: 1.0000e-04\n",
            "Epoch 19/50\n",
            "\u001b[1m405/405\u001b[0m \u001b[32m━━━━━━━━━━━━━━━━━━━━\u001b[0m\u001b[37m\u001b[0m \u001b[1m0s\u001b[0m 289ms/step - accuracy: 0.3569 - loss: 1.6184\n",
            "Epoch 19: val_accuracy improved from 0.40696 to 0.40874, saving model to best_vgg16_tl.keras\n",
            "\u001b[1m405/405\u001b[0m \u001b[32m━━━━━━━━━━━━━━━━━━━━\u001b[0m\u001b[37m\u001b[0m \u001b[1m142s\u001b[0m 322ms/step - accuracy: 0.3569 - loss: 1.6184 - val_accuracy: 0.4087 - val_loss: 1.5800 - learning_rate: 1.0000e-04\n",
            "Epoch 20/50\n",
            "\u001b[1m405/405\u001b[0m \u001b[32m━━━━━━━━━━━━━━━━━━━━\u001b[0m\u001b[37m\u001b[0m \u001b[1m0s\u001b[0m 290ms/step - accuracy: 0.3587 - loss: 1.6177\n",
            "Epoch 20: val_accuracy did not improve from 0.40874\n",
            "\u001b[1m405/405\u001b[0m \u001b[32m━━━━━━━━━━━━━━━━━━━━\u001b[0m\u001b[37m\u001b[0m \u001b[1m142s\u001b[0m 322ms/step - accuracy: 0.3587 - loss: 1.6177 - val_accuracy: 0.4055 - val_loss: 1.5731 - learning_rate: 1.0000e-04\n",
            "Epoch 21/50\n",
            "\u001b[1m405/405\u001b[0m \u001b[32m━━━━━━━━━━━━━━━━━━━━\u001b[0m\u001b[37m\u001b[0m \u001b[1m0s\u001b[0m 293ms/step - accuracy: 0.3623 - loss: 1.6216\n",
            "Epoch 21: val_accuracy did not improve from 0.40874\n",
            "\u001b[1m405/405\u001b[0m \u001b[32m━━━━━━━━━━━━━━━━━━━━\u001b[0m\u001b[37m\u001b[0m \u001b[1m151s\u001b[0m 344ms/step - accuracy: 0.3623 - loss: 1.6216 - val_accuracy: 0.4027 - val_loss: 1.5719 - learning_rate: 1.0000e-04\n",
            "Epoch 22/50\n",
            "\u001b[1m405/405\u001b[0m \u001b[32m━━━━━━━━━━━━━━━━━━━━\u001b[0m\u001b[37m\u001b[0m \u001b[1m0s\u001b[0m 290ms/step - accuracy: 0.3597 - loss: 1.6190\n",
            "Epoch 22: val_accuracy improved from 0.40874 to 0.41016, saving model to best_vgg16_tl.keras\n",
            "\u001b[1m405/405\u001b[0m \u001b[32m━━━━━━━━━━━━━━━━━━━━\u001b[0m\u001b[37m\u001b[0m \u001b[1m132s\u001b[0m 323ms/step - accuracy: 0.3597 - loss: 1.6190 - val_accuracy: 0.4102 - val_loss: 1.5624 - learning_rate: 1.0000e-04\n",
            "Epoch 23/50\n",
            "\u001b[1m405/405\u001b[0m \u001b[32m━━━━━━━━━━━━━━━━━━━━\u001b[0m\u001b[37m\u001b[0m \u001b[1m0s\u001b[0m 293ms/step - accuracy: 0.3609 - loss: 1.6171\n",
            "Epoch 23: val_accuracy did not improve from 0.41016\n",
            "\u001b[1m405/405\u001b[0m \u001b[32m━━━━━━━━━━━━━━━━━━━━\u001b[0m\u001b[37m\u001b[0m \u001b[1m150s\u001b[0m 344ms/step - accuracy: 0.3609 - loss: 1.6171 - val_accuracy: 0.4087 - val_loss: 1.5670 - learning_rate: 1.0000e-04\n",
            "Epoch 24/50\n",
            "\u001b[1m405/405\u001b[0m \u001b[32m━━━━━━━━━━━━━━━━━━━━\u001b[0m\u001b[37m\u001b[0m \u001b[1m0s\u001b[0m 291ms/step - accuracy: 0.3588 - loss: 1.6146\n",
            "Epoch 24: val_accuracy did not improve from 0.41016\n",
            "\u001b[1m405/405\u001b[0m \u001b[32m━━━━━━━━━━━━━━━━━━━━\u001b[0m\u001b[37m\u001b[0m \u001b[1m142s\u001b[0m 342ms/step - accuracy: 0.3588 - loss: 1.6146 - val_accuracy: 0.4077 - val_loss: 1.5613 - learning_rate: 1.0000e-04\n",
            "Epoch 25/50\n",
            "\u001b[1m405/405\u001b[0m \u001b[32m━━━━━━━━━━━━━━━━━━━━\u001b[0m\u001b[37m\u001b[0m \u001b[1m0s\u001b[0m 291ms/step - accuracy: 0.3641 - loss: 1.6038\n",
            "Epoch 25: ReduceLROnPlateau reducing learning rate to 4.999999873689376e-05.\n",
            "\n",
            "Epoch 25: val_accuracy did not improve from 0.41016\n",
            "\u001b[1m405/405\u001b[0m \u001b[32m━━━━━━━━━━━━━━━━━━━━\u001b[0m\u001b[37m\u001b[0m \u001b[1m133s\u001b[0m 323ms/step - accuracy: 0.3641 - loss: 1.6038 - val_accuracy: 0.3991 - val_loss: 1.5660 - learning_rate: 1.0000e-04\n",
            "Epoch 26/50\n",
            "\u001b[1m405/405\u001b[0m \u001b[32m━━━━━━━━━━━━━━━━━━━━\u001b[0m\u001b[37m\u001b[0m \u001b[1m0s\u001b[0m 292ms/step - accuracy: 0.3637 - loss: 1.6091\n",
            "Epoch 26: val_accuracy did not improve from 0.41016\n",
            "\u001b[1m405/405\u001b[0m \u001b[32m━━━━━━━━━━━━━━━━━━━━\u001b[0m\u001b[37m\u001b[0m \u001b[1m142s\u001b[0m 324ms/step - accuracy: 0.3637 - loss: 1.6091 - val_accuracy: 0.4098 - val_loss: 1.5585 - learning_rate: 5.0000e-05\n",
            "Epoch 27/50\n",
            "\u001b[1m405/405\u001b[0m \u001b[32m━━━━━━━━━━━━━━━━━━━━\u001b[0m\u001b[37m\u001b[0m \u001b[1m0s\u001b[0m 288ms/step - accuracy: 0.3665 - loss: 1.6102\n",
            "Epoch 27: val_accuracy did not improve from 0.41016\n",
            "\u001b[1m405/405\u001b[0m \u001b[32m━━━━━━━━━━━━━━━━━━━━\u001b[0m\u001b[37m\u001b[0m \u001b[1m131s\u001b[0m 320ms/step - accuracy: 0.3665 - loss: 1.6102 - val_accuracy: 0.4045 - val_loss: 1.5622 - learning_rate: 5.0000e-05\n",
            "Epoch 27: early stopping\n",
            "Restoring model weights from the end of the best epoch: 22.\n"
          ]
        }
      ]
    },
    {
      "cell_type": "markdown",
      "source": [
        "7.FINE-TUNE LAST BLOCK"
      ],
      "metadata": {
        "id": "7GOA0M2MeEmS"
      }
    },
    {
      "cell_type": "code",
      "source": [
        "for layer in model.layers[1].layers:\n",
        "    if layer.name.startswith(\"block5\"):\n",
        "        layer.trainable = True\n",
        "\n",
        "model.compile(optimizer=keras.optimizers.Adam(1e-5),\n",
        "              loss=\"sparse_categorical_crossentropy\",\n",
        "              metrics=[\"accuracy\"])\n",
        "\n",
        "history_ft = model.fit(train_ds,\n",
        "                       validation_data=val_ds,\n",
        "                       epochs=10,\n",
        "                       callbacks=callbacks)\n"
      ],
      "metadata": {
        "id": "8BN_YfKWdKdY",
        "colab": {
          "base_uri": "https://localhost:8080/"
        },
        "outputId": "9358f284-0428-4b5d-c615-b706a2e42978"
      },
      "execution_count": 8,
      "outputs": [
        {
          "output_type": "stream",
          "name": "stdout",
          "text": [
            "Epoch 1/10\n",
            "\u001b[1m405/405\u001b[0m \u001b[32m━━━━━━━━━━━━━━━━━━━━\u001b[0m\u001b[37m\u001b[0m \u001b[1m0s\u001b[0m 344ms/step - accuracy: 0.4022 - loss: 1.5410\n",
            "Epoch 1: val_accuracy improved from 0.41016 to 0.49432, saving model to best_vgg16_tl.keras\n",
            "\u001b[1m405/405\u001b[0m \u001b[32m━━━━━━━━━━━━━━━━━━━━\u001b[0m\u001b[37m\u001b[0m \u001b[1m170s\u001b[0m 397ms/step - accuracy: 0.4023 - loss: 1.5408 - val_accuracy: 0.4943 - val_loss: 1.3539 - learning_rate: 1.0000e-05\n",
            "Epoch 2/10\n",
            "\u001b[1m405/405\u001b[0m \u001b[32m━━━━━━━━━━━━━━━━━━━━\u001b[0m\u001b[37m\u001b[0m \u001b[1m0s\u001b[0m 334ms/step - accuracy: 0.4815 - loss: 1.3685\n",
            "Epoch 2: val_accuracy improved from 0.49432 to 0.51172, saving model to best_vgg16_tl.keras\n",
            "\u001b[1m405/405\u001b[0m \u001b[32m━━━━━━━━━━━━━━━━━━━━\u001b[0m\u001b[37m\u001b[0m \u001b[1m158s\u001b[0m 386ms/step - accuracy: 0.4816 - loss: 1.3685 - val_accuracy: 0.5117 - val_loss: 1.2960 - learning_rate: 1.0000e-05\n",
            "Epoch 3/10\n",
            "\u001b[1m405/405\u001b[0m \u001b[32m━━━━━━━━━━━━━━━━━━━━\u001b[0m\u001b[37m\u001b[0m \u001b[1m0s\u001b[0m 334ms/step - accuracy: 0.5103 - loss: 1.2990\n",
            "Epoch 3: val_accuracy improved from 0.51172 to 0.52734, saving model to best_vgg16_tl.keras\n",
            "\u001b[1m405/405\u001b[0m \u001b[32m━━━━━━━━━━━━━━━━━━━━\u001b[0m\u001b[37m\u001b[0m \u001b[1m150s\u001b[0m 367ms/step - accuracy: 0.5103 - loss: 1.2989 - val_accuracy: 0.5273 - val_loss: 1.2615 - learning_rate: 1.0000e-05\n",
            "Epoch 4/10\n",
            "\u001b[1m405/405\u001b[0m \u001b[32m━━━━━━━━━━━━━━━━━━━━\u001b[0m\u001b[37m\u001b[0m \u001b[1m0s\u001b[0m 334ms/step - accuracy: 0.5342 - loss: 1.2367\n",
            "Epoch 4: val_accuracy did not improve from 0.52734\n",
            "\u001b[1m405/405\u001b[0m \u001b[32m━━━━━━━━━━━━━━━━━━━━\u001b[0m\u001b[37m\u001b[0m \u001b[1m209s\u001b[0m 385ms/step - accuracy: 0.5342 - loss: 1.2367 - val_accuracy: 0.5263 - val_loss: 1.2281 - learning_rate: 1.0000e-05\n",
            "Epoch 5/10\n",
            "\u001b[1m405/405\u001b[0m \u001b[32m━━━━━━━━━━━━━━━━━━━━\u001b[0m\u001b[37m\u001b[0m \u001b[1m0s\u001b[0m 334ms/step - accuracy: 0.5495 - loss: 1.1966\n",
            "Epoch 5: val_accuracy improved from 0.52734 to 0.53445, saving model to best_vgg16_tl.keras\n",
            "\u001b[1m405/405\u001b[0m \u001b[32m━━━━━━━━━━━━━━━━━━━━\u001b[0m\u001b[37m\u001b[0m \u001b[1m150s\u001b[0m 366ms/step - accuracy: 0.5495 - loss: 1.1966 - val_accuracy: 0.5344 - val_loss: 1.2047 - learning_rate: 1.0000e-05\n",
            "Epoch 6/10\n",
            "\u001b[1m405/405\u001b[0m \u001b[32m━━━━━━━━━━━━━━━━━━━━\u001b[0m\u001b[37m\u001b[0m \u001b[1m0s\u001b[0m 332ms/step - accuracy: 0.5545 - loss: 1.1617\n",
            "Epoch 6: val_accuracy improved from 0.53445 to 0.54901, saving model to best_vgg16_tl.keras\n",
            "\u001b[1m405/405\u001b[0m \u001b[32m━━━━━━━━━━━━━━━━━━━━\u001b[0m\u001b[37m\u001b[0m \u001b[1m149s\u001b[0m 364ms/step - accuracy: 0.5546 - loss: 1.1617 - val_accuracy: 0.5490 - val_loss: 1.1966 - learning_rate: 1.0000e-05\n",
            "Epoch 7/10\n",
            "\u001b[1m405/405\u001b[0m \u001b[32m━━━━━━━━━━━━━━━━━━━━\u001b[0m\u001b[37m\u001b[0m \u001b[1m0s\u001b[0m 334ms/step - accuracy: 0.5676 - loss: 1.1360\n",
            "Epoch 7: val_accuracy improved from 0.54901 to 0.56286, saving model to best_vgg16_tl.keras\n",
            "\u001b[1m405/405\u001b[0m \u001b[32m━━━━━━━━━━━━━━━━━━━━\u001b[0m\u001b[37m\u001b[0m \u001b[1m211s\u001b[0m 386ms/step - accuracy: 0.5676 - loss: 1.1360 - val_accuracy: 0.5629 - val_loss: 1.1472 - learning_rate: 1.0000e-05\n",
            "Epoch 8/10\n",
            "\u001b[1m405/405\u001b[0m \u001b[32m━━━━━━━━━━━━━━━━━━━━\u001b[0m\u001b[37m\u001b[0m \u001b[1m0s\u001b[0m 334ms/step - accuracy: 0.5868 - loss: 1.0996\n",
            "Epoch 8: val_accuracy improved from 0.56286 to 0.57280, saving model to best_vgg16_tl.keras\n",
            "\u001b[1m405/405\u001b[0m \u001b[32m━━━━━━━━━━━━━━━━━━━━\u001b[0m\u001b[37m\u001b[0m \u001b[1m195s\u001b[0m 366ms/step - accuracy: 0.5868 - loss: 1.0996 - val_accuracy: 0.5728 - val_loss: 1.1499 - learning_rate: 1.0000e-05\n",
            "Epoch 9/10\n",
            "\u001b[1m405/405\u001b[0m \u001b[32m━━━━━━━━━━━━━━━━━━━━\u001b[0m\u001b[37m\u001b[0m \u001b[1m0s\u001b[0m 332ms/step - accuracy: 0.5897 - loss: 1.0847\n",
            "Epoch 9: val_accuracy improved from 0.57280 to 0.58026, saving model to best_vgg16_tl.keras\n",
            "\u001b[1m405/405\u001b[0m \u001b[32m━━━━━━━━━━━━━━━━━━━━\u001b[0m\u001b[37m\u001b[0m \u001b[1m149s\u001b[0m 365ms/step - accuracy: 0.5897 - loss: 1.0846 - val_accuracy: 0.5803 - val_loss: 1.1262 - learning_rate: 1.0000e-05\n",
            "Epoch 10/10\n",
            "\u001b[1m405/405\u001b[0m \u001b[32m━━━━━━━━━━━━━━━━━━━━\u001b[0m\u001b[37m\u001b[0m \u001b[1m0s\u001b[0m 332ms/step - accuracy: 0.6006 - loss: 1.0594\n",
            "Epoch 10: val_accuracy did not improve from 0.58026\n",
            "\u001b[1m405/405\u001b[0m \u001b[32m━━━━━━━━━━━━━━━━━━━━\u001b[0m\u001b[37m\u001b[0m \u001b[1m149s\u001b[0m 364ms/step - accuracy: 0.6006 - loss: 1.0593 - val_accuracy: 0.5625 - val_loss: 1.1461 - learning_rate: 1.0000e-05\n",
            "Restoring model weights from the end of the best epoch: 9.\n"
          ]
        }
      ]
    },
    {
      "cell_type": "markdown",
      "source": [
        "8.VISUALIZATION"
      ],
      "metadata": {
        "id": "C-EE45WGDJtw"
      }
    },
    {
      "cell_type": "code",
      "source": [
        "import matplotlib.pyplot as plt\n",
        "\n",
        "# Combine histories from head training and fine-tuning\n",
        "def combine_history(h1, h2):\n",
        "    acc = h1.history['accuracy'] + h2.history['accuracy']\n",
        "    val_acc = h1.history['val_accuracy'] + h2.history['val_accuracy']\n",
        "    loss = h1.history['loss'] + h2.history['loss']\n",
        "    val_loss = h1.history['val_loss'] + h2.history['val_loss']\n",
        "    return acc, val_acc, loss, val_loss\n",
        "\n",
        "acc, val_acc, loss, val_loss = combine_history(history, history_ft)\n",
        "\n",
        "# Plot accuracy\n",
        "plt.figure(figsize=(12,5))\n",
        "plt.subplot(1,2,1)\n",
        "plt.plot(acc, label=\"Train Accuracy\")\n",
        "plt.plot(val_acc, label=\"Val Accuracy\")\n",
        "plt.title(\"Training vs Validation Accuracy\")\n",
        "plt.xlabel(\"Epochs\")\n",
        "plt.ylabel(\"Accuracy\")\n",
        "plt.legend()\n",
        "\n",
        "# Plot loss\n",
        "plt.subplot(1,2,2)\n",
        "plt.plot(loss, label=\"Train Loss\")\n",
        "plt.plot(val_loss, label=\"Val Loss\")\n",
        "plt.title(\"Training vs Validation Loss\")\n",
        "plt.xlabel(\"Epochs\")\n",
        "plt.ylabel(\"Loss\")\n",
        "plt.legend()\n",
        "\n",
        "plt.show()\n"
      ],
      "metadata": {
        "colab": {
          "base_uri": "https://localhost:8080/",
          "height": 487
        },
        "id": "zbhk9dbDDH-s",
        "outputId": "5b8b9565-19f2-4238-fbcf-65aeb883cddc"
      },
      "execution_count": 11,
      "outputs": [
        {
          "output_type": "display_data",
          "data": {
            "text/plain": [
              "<Figure size 1200x500 with 2 Axes>"
            ],
            "image/png": "[encoded data removed]"
          },
          "metadata": {}
        }
      ]
    },
    {
      "cell_type": "markdown",
      "source": [
        "9.EVALUATE"
      ],
      "metadata": {
        "id": "1nQKc5UfeH7l"
      }
    },
    {
      "cell_type": "code",
      "source": [
        "best_model = keras.models.load_model(\"best_vgg16_tl.keras\")\n",
        "loss, acc = best_model.evaluate(test_ds)\n",
        "print(f\"Test Accuracy: {acc:.4f}\")\n"
      ],
      "metadata": {
        "colab": {
          "base_uri": "https://localhost:8080/"
        },
        "id": "ql02sBcZIGH-",
        "outputId": "5de432ee-7171-4832-f29c-21d876b4c713"
      },
      "execution_count": 12,
      "outputs": [
        {
          "output_type": "stream",
          "name": "stdout",
          "text": [
            "\u001b[1m113/113\u001b[0m \u001b[32m━━━━━━━━━━━━━━━━━━━━\u001b[0m\u001b[37m\u001b[0m \u001b[1m40s\u001b[0m 345ms/step - accuracy: 0.5626 - loss: 1.1405\n",
            "Test Accuracy: 0.5804\n"
          ]
        }
      ]
    }
  ]
}